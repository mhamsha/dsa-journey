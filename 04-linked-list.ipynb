{
 "cells": [
  {
   "cell_type": "markdown",
   "metadata": {},
   "source": [
    "## **Linked List**\n"
   ]
  },
  {
   "cell_type": "code",
   "execution_count": 39,
   "metadata": {},
   "outputs": [],
   "source": [
    "class Node:\n",
    "    def __init__(self, value):\n",
    "        self.value = value\n",
    "        self.next = None\n",
    "\n",
    "\n",
    "class LinkedList:\n",
    "    def __init__(self):\n",
    "        self.head = None"
   ]
  },
  {
   "cell_type": "markdown",
   "metadata": {},
   "source": [
    "## **Push Operations**\n",
    "\n",
    "The `push` function adds a new node with the given value to the end of the linked list. It handles both the cases where the list is empty and where it already contains nodes.\n",
    "\n",
    "1. When there are no nodes\n",
    "2. When there is already one or more nodes\n"
   ]
  },
  {
   "cell_type": "code",
   "execution_count": 40,
   "metadata": {},
   "outputs": [],
   "source": [
    "def push(self, val):\n",
    "    new_node = Node(val)\n",
    "\n",
    "    # * case 1:\n",
    "    if self.head is None:\n",
    "        self.head = new_node\n",
    "        return\n",
    "\n",
    "    # * case 2:\n",
    "    last = self.head\n",
    "    while last.next is not None:\n",
    "        last = last.next\n",
    "\n",
    "    last.next = new_node\n",
    "\n",
    "\n",
    "LinkedList.push = push"
   ]
  },
  {
   "cell_type": "markdown",
   "metadata": {},
   "source": [
    "## **Conversion to String**\n",
    "\n",
    "Python has a special function `__str__`. This is called whenever a cast to string is made. (These are called dunder (double underscore) functions)\n"
   ]
  },
  {
   "cell_type": "code",
   "execution_count": 41,
   "metadata": {},
   "outputs": [],
   "source": [
    "def __str__(self):\n",
    "    ret_str = \"[\"\n",
    "    last = self.head\n",
    "    while last is not None:\n",
    "        ret_str += str(last.value) + \", \"\n",
    "        last = last.next\n",
    "\n",
    "    ret_str = ret_str.rstrip(\", \")\n",
    "    ret_str += \"]\"\n",
    "\n",
    "    return ret_str\n",
    "\n",
    "\n",
    "LinkedList.__str__ = __str__"
   ]
  },
  {
   "cell_type": "markdown",
   "metadata": {},
   "source": [
    "## **Pop Operations**\n",
    "\n",
    "The `pop` function removes the last node from the linked list and returns its value. If the list is empty, it raises an exception.\n",
    "\n",
    "Pop Operation has two cases:\n",
    "\n",
    "1. When there are no nodes (underflow condition)\n",
    "2. When there is only one node\n",
    "3. When there are more than one nodes\n",
    "\n"
   ]
  },
  {
   "cell_type": "code",
   "execution_count": 52,
   "metadata": {},
   "outputs": [],
   "source": [
    "def pop(self):\n",
    "    # * case : 1\n",
    "    if self.head is None:\n",
    "        raise Exception(\"Invalid Argument. No value exist!\")\n",
    "\n",
    "    # * case : 2\n",
    "    if self.head.next is None:\n",
    "        print(\"exex: case 2\")\n",
    "        value = self.head.value\n",
    "        self.head = None\n",
    "        return value\n",
    "\n",
    "    # * case : 3\n",
    "    last = self.head\n",
    "    print(\"exec: case 3\")\n",
    "    while last.next is not None:\n",
    "        prev = last\n",
    "        last = last.next\n",
    "\n",
    "    prev.next = None\n",
    "    return last.value\n",
    "\n",
    "\n",
    "LinkedList.pop = pop"
   ]
  },
  {
   "cell_type": "markdown",
   "metadata": {},
   "source": [
    "## **Insert Operations**\n",
    "\n",
    "The `insert` function adds a new node with the given value at the specified index in the linked list. It handles different cases based on the position where the new node is to be inserted.\n",
    "\n",
    "Insert Operation has two cases:\n",
    "\n",
    "1. When the index is 0 (inserting at the head)\n",
    "2. When the index is greater than 0 (inserting in the middle or end)"
   ]
  },
  {
   "cell_type": "code",
   "execution_count": 70,
   "metadata": {},
   "outputs": [],
   "source": [
    "def insert(self, idx, val):\n",
    "    new_node = Node(val)\n",
    "    # case-1\n",
    "    if idx == 0:\n",
    "        new_node.next = self.head\n",
    "        self.head = new_node\n",
    "        return\n",
    "    # case-2\n",
    "    last = self.head\n",
    "    counter = 0\n",
    "    while last is not None and counter < idx:\n",
    "        prev = last\n",
    "        last = last.next\n",
    "        counter += 1\n",
    "\n",
    "    new_node.next = last\n",
    "    prev.next = new_node\n",
    "\n",
    "\n",
    "LinkedList.insert = insert"
   ]
  },
  {
   "cell_type": "markdown",
   "metadata": {},
   "source": [
    "\n",
    "## **Remove Operations**\n",
    "\n",
    "The `remove` function deletes the first node with the given value from the linked list. If the value is not found, it raises an exception. This function handles different cases based on the position of the node to be removed.\n",
    "\n",
    "Remove Operation has three cases:\n",
    "\n",
    "1. When the list is empty (underflow condition)\n",
    "2. When the node to be removed is the head node\n",
    "3. When the node to be removed is in the middle or end of the list\n"
   ]
  },
  {
   "cell_type": "code",
   "execution_count": 111,
   "metadata": {},
   "outputs": [],
   "source": [
    "# remove\n",
    "def remove(self, val):\n",
    "    # case -0 \n",
    "    if(self.head is None):\n",
    "        raise Exception(\"No linked list found!\")\n",
    "        \n",
    "    # case -1\n",
    "    if self.head.value == val:\n",
    "        self.head = self.head.next\n",
    "        return\n",
    "    # case-2\n",
    "    last = self.head\n",
    "    while last.next is not None and last.value != val:\n",
    "        prev = last\n",
    "        last = last.next\n",
    "\n",
    "    if last.value == val:\n",
    "        prev.next = last.next\n",
    "\n",
    "\n",
    "LinkedList.remove = remove"
   ]
  },
  {
   "cell_type": "code",
   "execution_count": 116,
   "metadata": {},
   "outputs": [
    {
     "name": "stdout",
     "output_type": "stream",
     "text": [
      "[200, 500, 10, 20, 30, 50]\n",
      "[]\n"
     ]
    }
   ],
   "source": [
    "listOne = LinkedList()\n",
    "listOne.push(10)\n",
    "listOne.push(20)\n",
    "listOne.push(30)\n",
    "listOne.push(50)\n",
    "listOne.insert(0 ,500)\n",
    "listOne.insert(0 ,200)\n",
    "print(listOne)\n",
    "listOne.remove(200)\n",
    "listOne.remove(500)\n",
    "listOne.remove(20)\n",
    "listOne.remove(60)\n",
    "listOne.remove(230)\n",
    "listOne.remove(50)\n",
    "listOne.remove(10)\n",
    "listOne.remove(30)\n",
    "\n",
    "\n",
    "print(listOne)\n"
   ]
  }
 ],
 "metadata": {
  "kernelspec": {
   "display_name": "Python 3",
   "language": "python",
   "name": "python3"
  },
  "language_info": {
   "codemirror_mode": {
    "name": "ipython",
    "version": 3
   },
   "file_extension": ".py",
   "mimetype": "text/x-python",
   "name": "python",
   "nbconvert_exporter": "python",
   "pygments_lexer": "ipython3",
   "version": "3.12.7"
  }
 },
 "nbformat": 4,
 "nbformat_minor": 2
}
