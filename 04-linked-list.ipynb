{
 "cells": [
  {
   "cell_type": "markdown",
   "metadata": {},
   "source": [
    "## **Linked List**\n"
   ]
  },
  {
   "cell_type": "code",
   "execution_count": 4,
   "metadata": {},
   "outputs": [],
   "source": [
    "class Node:\n",
    "    def __init__(self, data=None):\n",
    "        self.val = data\n",
    "        self.next = None\n",
    "\n",
    "\n",
    "class LinkedList:\n",
    "    def __init__(self):\n",
    "        self.head = None"
   ]
  },
  {
   "cell_type": "markdown",
   "metadata": {},
   "source": [
    "## **Push Operations**\n",
    "Push Operation has two cases:\n",
    "  1. When there are no nodes\n",
    "  2. When there is already one or more nodes"
   ]
  },
  {
   "cell_type": "code",
   "execution_count": 5,
   "metadata": {},
   "outputs": [],
   "source": [
    "def push(self, val):\n",
    "    new_node = Node(val)\n",
    "\n",
    "    # ~ no node currently\n",
    "    if self.head is None:\n",
    "        self.head = new_node\n",
    "        return\n",
    "\n",
    "    # ~ otherwise, reach the end and then insert\n",
    "    last = self.head\n",
    "    while last.next is not None:\n",
    "        last = last.next\n",
    "\n",
    "    last.next = new_node\n",
    "\n",
    "\n",
    "LinkedList.push = push  # ~ we can add function to classes even after it is made"
   ]
  },
  {
   "cell_type": "markdown",
   "metadata": {},
   "source": [
    "## **Conversion to String**\n",
    "Python has a special function `__str__`. This is called whenever a cast to string is made. (These are called dunder  (double underscore) functions)"
   ]
  },
  {
   "cell_type": "code",
   "execution_count": 6,
   "metadata": {},
   "outputs": [],
   "source": [
    "def __str__(self):\n",
    "    ret_str = \"[\"\n",
    "    temp = self.head\n",
    "    while temp is not None:  # ~ or just white temp\n",
    "        ret_str += str(temp.val) + \", \"\n",
    "        temp = temp.next\n",
    "\n",
    "    ret_str = ret_str.rstrip(\", \")\n",
    "    ret_str += \"]\"\n",
    "    return ret_str\n",
    "\n",
    "\n",
    "LinkedList.__str__ = __str__"
   ]
  },
  {
   "cell_type": "code",
   "execution_count": 7,
   "metadata": {},
   "outputs": [
    {
     "name": "stdout",
     "output_type": "stream",
     "text": [
      "[1, 2, 3]\n"
     ]
    }
   ],
   "source": [
    "l = LinkedList()\n",
    "l.push(1)\n",
    "l.push(2)\n",
    "l.push(3)\n",
    "\n",
    "print(l)"
   ]
  }
 ],
 "metadata": {
  "kernelspec": {
   "display_name": "Python 3",
   "language": "python",
   "name": "python3"
  },
  "language_info": {
   "codemirror_mode": {
    "name": "ipython",
    "version": 3
   },
   "file_extension": ".py",
   "mimetype": "text/x-python",
   "name": "python",
   "nbconvert_exporter": "python",
   "pygments_lexer": "ipython3",
   "version": "3.12.7"
  }
 },
 "nbformat": 4,
 "nbformat_minor": 2
}
