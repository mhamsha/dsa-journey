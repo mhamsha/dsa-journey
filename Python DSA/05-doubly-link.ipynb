{
 "cells": [
  {
   "cell_type": "markdown",
   "metadata": {},
   "source": [
    "\n",
    "# Doubly Linked List Implementation\n",
    "\n",
    "A doubly linked list is a type of linked list in which each node contains a reference to both the next and the previous node in the sequence. This allows for traversal of the list in both "
   ]
  },
  {
   "cell_type": "code",
   "execution_count": 1,
   "metadata": {},
   "outputs": [],
   "source": [
    "class Node:\n",
    "    def __init__(self, value):\n",
    "        self.prev = None\n",
    "        self.value = value\n",
    "        self.next = None\n",
    "class Doubly:\n",
    "    def __init__(self):\n",
    "        self.head = None"
   ]
  },
  {
   "cell_type": "markdown",
   "metadata": {},
   "source": [
    "### String Representation in Doubly Linked List\n",
    "\n",
    "The string representation method (`__str__`) in a doubly linked list is used to provide a human-readable format of the list's contents. This method is particularly useful for debugging and logging purposes. \n",
    "\n",
    "In the implementation provided, the `__str__` method constructs a string that represents the list in a format similar to a Python list. It iterates through each node in the doubly linked list, appending the value of each node to the string. The resulting string is then returned, giving a clear and concise view of the list's current state.\n",
    "\n",
    "Here's a breakdown of the `__str__` method:\n",
    "\n",
    "1. **Initialization**: A string `ret_str` is initialized with an opening bracket `[`.\n",
    "2. **Traversal**: Starting from the head of the list, each node's value is appended to `ret_str`, followed by a comma and a space.\n",
    "3. **Cleanup**: The trailing comma and space are removed from the string.\n",
    "4. **Completion**: A closing bracket `]` is added to the end of the string, and the complete string is returned.\n",
    "\n",
    "This method ensures that the list's contents are displayed in a readable and organized manner, making it easier to understand the structure and values within the doubly linked list."
   ]
  },
  {
   "cell_type": "code",
   "execution_count": null,
   "metadata": {},
   "outputs": [],
   "source": [
    "def __str__(self):\n",
    "    ret_str = '['\n",
    "    last = self.head\n",
    "    while last is not None:\n",
    "        ret_str += str(last.value) + ', '\n",
    "        last = last.next\n",
    "    \n",
    "    ret_str = ret_str.rstrip(', ')\n",
    "    ret_str += ']'\n",
    "    return ret_str\n",
    "\n",
    "Doubly.__str__ = __str__"
   ]
  },
  {
   "cell_type": "markdown",
   "metadata": {},
   "source": [
    "\n",
    "## Push Method in Doubly Linked List\n",
    "\n",
    "The `push` method is used to add a new node with a specified value to the end of the doubly linked list. It handles two cases:\n",
    "\n",
    "1. **Case 1**: If the list is empty (i.e., `self.head` is `None`), the new node becomes the head of the list.\n",
    "2. **Case 2**: If the list is not empty, the method traverses to the end of the list and adds the new node there. The new node's `prev` reference is set to the last node, and the last node's `next` reference is updated to point to the new node.\n"
   ]
  },
  {
   "cell_type": "code",
   "execution_count": 156,
   "metadata": {},
   "outputs": [],
   "source": [
    "def push(self, val):\n",
    "    new_node = Node(val)\n",
    "    \n",
    "    # case-1\n",
    "    if self.head is None:\n",
    "        self.head = new_node\n",
    "        return\n",
    "    \n",
    "    # case-2\n",
    "    last = self.head\n",
    "    while last.next is not None:\n",
    "        last = last.next\n",
    "        \n",
    "    last.next = new_node\n",
    "    new_node.prev = last\n",
    "    \n",
    "Doubly.push = push\n",
    "        \n",
    "    "
   ]
  },
  {
   "cell_type": "markdown",
   "metadata": {},
   "source": [
    "\n",
    "### Pop Method in Doubly Linked List\n",
    "\n",
    "The `pop` method removes and returns the last node in the doubly linked list. \n",
    "\n",
    "It handles two cases: if the list has only one node, it sets the head to `None`; otherwise, it updates the second last node's `next` reference to `None`.\n"
   ]
  },
  {
   "cell_type": "code",
   "execution_count": 157,
   "metadata": {},
   "outputs": [],
   "source": [
    "def pop(self):\n",
    "    # case-1\n",
    "    temp = self.head\n",
    "    if temp.next is None:\n",
    "        # print(hex(id(temp)))\n",
    "        # print(hex(id(self.head)))\n",
    "        # ! why not temp working but self.head working\n",
    "        print(\"case-1 \")\n",
    "        val = temp.value\n",
    "        self.head = None\n",
    "        \n",
    "        return val\n",
    "    # case-2\n",
    "    while temp.next is not None:\n",
    "        prev = temp\n",
    "        temp = temp.next\n",
    "\n",
    "    prev.next = None\n",
    "    print(\"case-2\")\n",
    "\n",
    "Doubly.pop = pop"
   ]
  },
  {
   "cell_type": "markdown",
   "metadata": {},
   "source": [
    "\n",
    "### Insert Method in Doubly Linked List\n",
    "\n",
    "The `insert` method allows for adding a new node with a specified value at a given index in the doubly linked list. This method is versatile and can handle insertion at the beginning, middle, or end of the list.\n",
    "\n",
    "#### Cases Handled by the Insert Method:\n",
    "1. **Case 1**: Inserting at the beginning of the list (index 0).\n",
    "2. **Case 2**: Inserting at any other position in the list.\n"
   ]
  },
  {
   "cell_type": "code",
   "execution_count": 158,
   "metadata": {},
   "outputs": [],
   "source": [
    "def insert(self, val, idx):\n",
    "    new_node = Node(val)\n",
    "    temp = self.head\n",
    "    # case-1\n",
    "    if idx == 0:\n",
    "        new_node.next = temp\n",
    "        if temp is not None:\n",
    "            temp.prev = new_node\n",
    "\n",
    "        self.head = new_node\n",
    "        return\n",
    "\n",
    "    counter = 0\n",
    "    while temp is not None and counter < idx:\n",
    "        prev = temp\n",
    "        temp = temp.next\n",
    "        counter += 1\n",
    "\n",
    "    prev.next = new_node\n",
    "    new_node.prev = prev\n",
    "\n",
    "    new_node.next = temp\n",
    "    if temp is not None:\n",
    "        temp.prev = new_node\n",
    "\n",
    "\n",
    "Doubly.insert = insert"
   ]
  },
  {
   "cell_type": "markdown",
   "metadata": {},
   "source": [
    "\n",
    "### Remove Method in Doubly Linked List\n",
    "\n",
    "The `remove` method is used to delete a node with a specified value from the doubly linked list. \n",
    "\n",
    "#### Cases Handled by the Remove Method:\n",
    "1. **Case 1**: Removing the head node.\n",
    "2. **Case 2**: Removing any other node in the list.\n"
   ]
  },
  {
   "cell_type": "code",
   "execution_count": 159,
   "metadata": {},
   "outputs": [],
   "source": [
    "def remove(self, val):\n",
    "    temp = self.head\n",
    "    # case-1\n",
    "    if temp.value == val:\n",
    "        self.head = temp.next\n",
    "        if temp.next is not None:\n",
    "            temp.next.prev = None\n",
    "        return\n",
    "\n",
    "    # case-2\n",
    "    counter = 0\n",
    "    last = temp\n",
    "    while last.next is not None and last.value != val:\n",
    "        prev = last\n",
    "        last = last.next\n",
    "\n",
    "    if last.value == val:\n",
    "        prev.next = last.next\n",
    "        if last.next is not None:\n",
    "            last.next.prev = prev\n",
    "\n",
    "\n",
    "Doubly.remove = remove"
   ]
  },
  {
   "cell_type": "code",
   "execution_count": 160,
   "metadata": {},
   "outputs": [
    {
     "name": "stdout",
     "output_type": "stream",
     "text": [
      "[10, 20, 40]\n"
     ]
    }
   ],
   "source": [
    "li = Doubly()\n",
    "li.push(10)\n",
    "li.push(20)\n",
    "li.push(30)\n",
    "li.push(40)\n",
    "# li.pop()\n",
    "# li.pop()\n",
    "# li.pop()\n",
    "# li.pop()\n",
    "li.insert(10,0)\n",
    "li.insert(123,1)\n",
    "li.insert(3434,34234)\n",
    "li.remove(10)\n",
    "li.remove(123)\n",
    "li.remove(3434)\n",
    "li.remove(30)\n",
    "li.remove(45450)\n",
    "\n",
    "\n",
    "# li.insert(60,3)\n",
    "print(li)"
   ]
  }
 ],
 "metadata": {
  "kernelspec": {
   "display_name": "Python 3",
   "language": "python",
   "name": "python3"
  },
  "language_info": {
   "codemirror_mode": {
    "name": "ipython",
    "version": 3
   },
   "file_extension": ".py",
   "mimetype": "text/x-python",
   "name": "python",
   "nbconvert_exporter": "python",
   "pygments_lexer": "ipython3",
   "version": "3.12.7"
  }
 },
 "nbformat": 4,
 "nbformat_minor": 2
}
