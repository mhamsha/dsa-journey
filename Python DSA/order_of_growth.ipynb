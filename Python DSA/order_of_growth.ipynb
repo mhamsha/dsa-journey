{
 "cells": [
  {
   "cell_type": "code",
   "execution_count": 2,
   "metadata": {},
   "outputs": [],
   "source": [
    "import time\n",
    "\n",
    "def fibonacci_recursive(n):\n",
    "    if n <= 1:\n",
    "        return n\n",
    "    else:\n",
    "        return fibonacci_recursive(n-1) + fibonacci_recursive(n-2)\n",
    "\n",
    "def fibonacci_iterative(n):\n",
    "    if n <= 1:\n",
    "        return n\n",
    "    a, b = 0, 1\n",
    "    for _ in range(2, n+1):\n",
    "        a, b = b, a + b\n",
    "    return b\n",
    "\n",
    "def measure_time(func, n):\n",
    "    start_time = time.time()\n",
    "    result = func(n)\n",
    "    end_time = time.time()\n",
    "    return end_time - start_time\n",
    "\n",
    "def compare_fibonacci_times():\n",
    "    print(\"n\\tRecursive Time\\tIterative Time\")\n",
    "    for n in range(1, 31):\n",
    "        recursive_time = measure_time(fibonacci_recursive, n)\n",
    "        iterative_time = measure_time(fibonacci_iterative, n)\n",
    "        print(f\"{n}\\t{recursive_time:.6f}\\t{iterative_time:.6f}\")\n",
    "\n",
    "# Uncomment the line below to run the comparison\n",
    "# compare_fibonacci_times()\n"
   ]
  },
  {
   "cell_type": "code",
   "execution_count": 4,
   "metadata": {},
   "outputs": [],
   "source": [
    "%pip install matplotlib\n",
    "import matplotlib.pyplot as plt\n",
    "\n",
    "def plot_fibonacci_times():\n",
    "    n_values = list(range(1, 31))\n",
    "    recursive_times = []\n",
    "    iterative_times = []\n",
    "    \n",
    "    for n in n_values:\n",
    "        recursive_times.append(measure_time(fibonacci_recursive, n))\n",
    "        iterative_times.append(measure_time(fibonacci_iterative, n))\n",
    "    \n",
    "    plt.figure(figsize=(10, 6))\n",
    "    plt.plot(n_values, recursive_times, label='Recursive', marker='o')\n",
    "    plt.plot(n_values, iterative_times, label='Iterative', marker='s')\n",
    "    plt.xlabel('n')\n",
    "    plt.ylabel('Time (seconds)')\n",
    "    plt.title('Comparison of Fibonacci Algorithms')\n",
    "    plt.legend()\n",
    "    plt.yscale('log')  # Using log scale for better visualization\n",
    "    plt.grid(True)\n",
    "    plt.show()\n",
    "\n",
    "# Uncomment the line below to run the plot\n",
    "# plot_fibonacci_times()\n"
   ]
  }
 ],
 "metadata": {
  "kernelspec": {
   "display_name": "Python 3",
   "language": "python",
   "name": "python3"
  },
  "language_info": {
   "codemirror_mode": {
    "name": "ipython",
    "version": 3
   },
   "file_extension": ".py",
   "mimetype": "text/x-python",
   "name": "python",
   "nbconvert_exporter": "python",
   "pygments_lexer": "ipython3",
   "version": "3.12.7"
  }
 },
 "nbformat": 4,
 "nbformat_minor": 2
}
